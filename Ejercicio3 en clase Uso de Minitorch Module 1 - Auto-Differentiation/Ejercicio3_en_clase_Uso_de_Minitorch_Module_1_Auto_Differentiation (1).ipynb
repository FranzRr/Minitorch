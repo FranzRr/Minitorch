{
  "nbformat": 4,
  "nbformat_minor": 0,
  "metadata": {
    "colab": {
      "name": "Ejercicio3 en clase: Uso de Minitorch Module 1 - Auto-Differentiation.ipynb",
      "provenance": [],
      "collapsed_sections": []
    },
    "kernelspec": {
      "name": "python3",
      "display_name": "Python 3"
    },
    "language_info": {
      "name": "python"
    }
  },
  "cells": [
    {
      "cell_type": "code",
      "metadata": {
        "colab": {
          "base_uri": "https://localhost:8080/"
        },
        "id": "L1jqaDe2K7lO",
        "outputId": "63533894-26e2-430b-c61a-3899416f3c43"
      },
      "source": [
        "from google.colab import drive\n",
        "drive.mount('/content/drive')"
      ],
      "execution_count": 1,
      "outputs": [
        {
          "output_type": "stream",
          "text": [
            "Mounted at /content/drive\n"
          ],
          "name": "stdout"
        }
      ]
    },
    {
      "cell_type": "code",
      "metadata": {
        "colab": {
          "base_uri": "https://localhost:8080/"
        },
        "id": "ElWRlef3LDt4",
        "outputId": "32f7e9f2-9d15-43f9-828f-235ef6b3749f"
      },
      "source": [
        "!pip install python-mnist"
      ],
      "execution_count": 2,
      "outputs": [
        {
          "output_type": "stream",
          "text": [
            "Collecting python-mnist\n",
            "  Downloading https://files.pythonhosted.org/packages/64/f0/6086b84427c3bf156ec0b3c2f9dfc1d770b35f942b9ed8a64f5229776a80/python_mnist-0.7-py2.py3-none-any.whl\n",
            "Installing collected packages: python-mnist\n",
            "Successfully installed python-mnist-0.7\n"
          ],
          "name": "stdout"
        }
      ]
    },
    {
      "cell_type": "code",
      "metadata": {
        "id": "cRPZyUzILHC_"
      },
      "source": [
        "!cd \"/content/drive/MyDrive/Minitorch/Module-1\" && python -m pip install -r requirements.txt && python -m pip install -r requirements.extra.txt && pip install -Ue ."
      ],
      "execution_count": null,
      "outputs": []
    },
    {
      "cell_type": "code",
      "metadata": {
        "id": "eKJqOQvaLH8G"
      },
      "source": [
        "import sys\n",
        "sys.path.append('/content/drive/MyDrive/Minitorch/Module-1')"
      ],
      "execution_count": 4,
      "outputs": []
    },
    {
      "cell_type": "code",
      "metadata": {
        "id": "tKnMoKFLLQ8n"
      },
      "source": [
        "import minitorch"
      ],
      "execution_count": 5,
      "outputs": []
    },
    {
      "cell_type": "markdown",
      "metadata": {
        "id": "Jy3ZVqvRZnrD"
      },
      "source": [
        "Corriendo test_scalar"
      ]
    },
    {
      "cell_type": "code",
      "metadata": {
        "id": "S31uR-w5LXTv"
      },
      "source": [
        " %run /content/drive/MyDrive/Minitorch/Module-1/tests/test_scalar.py"
      ],
      "execution_count": 6,
      "outputs": []
    },
    {
      "cell_type": "code",
      "metadata": {
        "colab": {
          "base_uri": "https://localhost:8080/"
        },
        "id": "pFc5yTeUydo9",
        "outputId": "ee6e168e-45a4-4b11-a033-fb0fd274ed98"
      },
      "source": [
        " %run -m pytest /content/drive/MyDrive/Minitorch/Module-1/tests/test_scalar.py "
      ],
      "execution_count": 7,
      "outputs": [
        {
          "output_type": "stream",
          "text": [
            "============================= test session starts ==============================\n",
            "platform linux -- Python 3.7.10, pytest-6.0.1, py-1.10.0, pluggy-0.13.1\n",
            "hypothesis profile 'ci' -> deadline=None, database=DirectoryBasedExampleDatabase('/content/.hypothesis/examples')\n",
            "rootdir: /content/drive/MyDrive/Minitorch/Module-1, configfile: pytest.ini\n",
            "plugins: hypothesis-4.38.0, typeguard-2.7.1\n",
            "collected 20 items\n",
            "\n",
            "drive/MyDrive/Minitorch/Module-1/tests/test_scalar.py .................. [ 90%]\n",
            "..                                                                       [100%]\n",
            "\n",
            "=============================== warnings summary ===============================\n",
            "/usr/local/lib/python3.7/dist-packages/_pytest/config/__init__.py:1040\n",
            "  /usr/local/lib/python3.7/dist-packages/_pytest/config/__init__.py:1040: PytestAssertRewriteWarning: Module already imported so cannot be rewritten: hypothesis\n",
            "    self._mark_plugins_for_rewrite(hook)\n",
            "\n",
            "-- Docs: https://docs.pytest.org/en/stable/warnings.html\n",
            "======================== 20 passed, 1 warning in 2.77s =========================\n"
          ],
          "name": "stdout"
        }
      ]
    },
    {
      "cell_type": "markdown",
      "metadata": {
        "id": "e8FA8UWZZrY7"
      },
      "source": [
        "Corriendo test_autodiff"
      ]
    },
    {
      "cell_type": "code",
      "metadata": {
        "id": "fijnNcKJHRqr"
      },
      "source": [
        " %run /content/drive/MyDrive/Minitorch/Module-1/tests/test_autodiff.py"
      ],
      "execution_count": 8,
      "outputs": []
    },
    {
      "cell_type": "code",
      "metadata": {
        "colab": {
          "base_uri": "https://localhost:8080/"
        },
        "id": "EMDWy2W-HSIK",
        "outputId": "880e5bab-5695-4519-a48d-89213b59996e"
      },
      "source": [
        " %run -m pytest /content/drive/MyDrive/Minitorch/Module-1/tests/test_autodiff.py "
      ],
      "execution_count": 9,
      "outputs": [
        {
          "output_type": "stream",
          "text": [
            "============================= test session starts ==============================\n",
            "platform linux -- Python 3.7.10, pytest-6.0.1, py-1.10.0, pluggy-0.13.1\n",
            "hypothesis profile 'ci' -> deadline=None, database=DirectoryBasedExampleDatabase('/content/.hypothesis/examples')\n",
            "rootdir: /content/drive/MyDrive/Minitorch/Module-1, configfile: pytest.ini\n",
            "plugins: hypothesis-4.38.0, typeguard-2.7.1\n",
            "collected 2 items\n",
            "\n",
            "drive/MyDrive/Minitorch/Module-1/tests/test_autodiff.py ..               [100%]\n",
            "\n",
            "=============================== warnings summary ===============================\n",
            "/usr/local/lib/python3.7/dist-packages/_pytest/config/__init__.py:1040\n",
            "  /usr/local/lib/python3.7/dist-packages/_pytest/config/__init__.py:1040: PytestAssertRewriteWarning: Module already imported so cannot be rewritten: hypothesis\n",
            "    self._mark_plugins_for_rewrite(hook)\n",
            "\n",
            "-- Docs: https://docs.pytest.org/en/stable/warnings.html\n",
            "========================= 2 passed, 1 warning in 0.29s =========================\n"
          ],
          "name": "stdout"
        }
      ]
    },
    {
      "cell_type": "code",
      "metadata": {
        "colab": {
          "base_uri": "https://localhost:8080/"
        },
        "id": "j8qN7_QKIP1M",
        "outputId": "5e26269a-2e28-4b4f-f52c-77b2b34810c4"
      },
      "source": [
        "%run /content/drive/MyDrive/Minitorch/Module-1/run_tests.py\n",
        "%run -m pytest /content/drive/MyDrive/Minitorch/Module-1"
      ],
      "execution_count": 10,
      "outputs": [
        {
          "output_type": "stream",
          "text": [
            "\n",
            "=================\n",
            "Running test 0\n",
            "=================\n",
            "\n",
            "=================\n",
            "Running test 1\n",
            "=================\n",
            "\n",
            "=================\n",
            "Running test 2\n",
            "=================\n",
            "\n",
            "=================\n",
            "Running test 3\n",
            "=================\n",
            "\n",
            "=================\n",
            "Running test 4\n",
            "=================\n",
            "============================= test session starts ==============================\n",
            "platform linux -- Python 3.7.10, pytest-6.0.1, py-1.10.0, pluggy-0.13.1\n",
            "hypothesis profile 'ci' -> deadline=None, database=DirectoryBasedExampleDatabase('/content/.hypothesis/examples')\n",
            "rootdir: /content/drive/MyDrive/Minitorch/Module-1, configfile: pytest.ini\n",
            "plugins: hypothesis-4.38.0, typeguard-2.7.1\n",
            "collected 22 items\n",
            "\n",
            "drive/MyDrive/Minitorch/Module-1/tests/test_autodiff.py ..               [  9%]\n",
            "drive/MyDrive/Minitorch/Module-1/tests/test_scalar.py .................. [ 90%]\n",
            "..                                                                       [100%]\n",
            "\n",
            "=============================== warnings summary ===============================\n",
            "/usr/local/lib/python3.7/dist-packages/_pytest/config/__init__.py:1040\n",
            "  /usr/local/lib/python3.7/dist-packages/_pytest/config/__init__.py:1040: PytestAssertRewriteWarning: Module already imported so cannot be rewritten: hypothesis\n",
            "    self._mark_plugins_for_rewrite(hook)\n",
            "\n",
            "-- Docs: https://docs.pytest.org/en/stable/warnings.html\n",
            "======================== 22 passed, 1 warning in 2.25s =========================\n"
          ],
          "name": "stdout"
        }
      ]
    },
    {
      "cell_type": "code",
      "metadata": {
        "id": "ERok9xit1zHM"
      },
      "source": [
        "#[6]*10**10"
      ],
      "execution_count": 11,
      "outputs": []
    },
    {
      "cell_type": "code",
      "metadata": {
        "colab": {
          "base_uri": "https://localhost:8080/",
          "height": 409
        },
        "id": "Ou3hwMNOMSuF",
        "outputId": "5a813cec-a97c-4848-e7c2-14cea31ff9a8"
      },
      "source": [
        "!pip install -U matplotlib"
      ],
      "execution_count": 13,
      "outputs": [
        {
          "output_type": "stream",
          "text": [
            "Collecting matplotlib\n",
            "\u001b[?25l  Downloading https://files.pythonhosted.org/packages/24/33/5568d443ba438d95d4db635dd69958056f087e57e1026bee56f959d53f9d/matplotlib-3.4.2-cp37-cp37m-manylinux1_x86_64.whl (10.3MB)\n",
            "\u001b[K     |████████████████████████████████| 10.3MB 4.0MB/s \n",
            "\u001b[?25hRequirement already satisfied, skipping upgrade: numpy>=1.16 in /usr/local/lib/python3.7/dist-packages (from matplotlib) (1.19.1)\n",
            "Requirement already satisfied, skipping upgrade: pillow>=6.2.0 in /usr/local/lib/python3.7/dist-packages (from matplotlib) (7.1.2)\n",
            "Requirement already satisfied, skipping upgrade: python-dateutil>=2.7 in /usr/local/lib/python3.7/dist-packages (from matplotlib) (2.8.1)\n",
            "Requirement already satisfied, skipping upgrade: kiwisolver>=1.0.1 in /usr/local/lib/python3.7/dist-packages (from matplotlib) (1.3.1)\n",
            "Requirement already satisfied, skipping upgrade: pyparsing>=2.2.1 in /usr/local/lib/python3.7/dist-packages (from matplotlib) (2.4.7)\n",
            "Requirement already satisfied, skipping upgrade: cycler>=0.10 in /usr/local/lib/python3.7/dist-packages (from matplotlib) (0.10.0)\n",
            "Requirement already satisfied, skipping upgrade: six>=1.5 in /usr/local/lib/python3.7/dist-packages (from python-dateutil>=2.7->matplotlib) (1.15.0)\n",
            "\u001b[31mERROR: albumentations 0.1.12 has requirement imgaug<0.2.7,>=0.2.5, but you'll have imgaug 0.2.9 which is incompatible.\u001b[0m\n",
            "Installing collected packages: matplotlib\n",
            "  Found existing installation: matplotlib 3.3.0\n",
            "    Uninstalling matplotlib-3.3.0:\n",
            "      Successfully uninstalled matplotlib-3.3.0\n",
            "Successfully installed matplotlib-3.4.2\n"
          ],
          "name": "stdout"
        },
        {
          "output_type": "display_data",
          "data": {
            "application/vnd.colab-display-data+json": {
              "pip_warning": {
                "packages": [
                  "matplotlib",
                  "mpl_toolkits"
                ]
              }
            }
          },
          "metadata": {
            "tags": []
          }
        }
      ]
    },
    {
      "cell_type": "markdown",
      "metadata": {
        "id": "2rEy4vznZ_-D"
      },
      "source": [
        "Corriendo Visdom "
      ]
    },
    {
      "cell_type": "code",
      "metadata": {
        "colab": {
          "base_uri": "https://localhost:8080/"
        },
        "id": "SchyoLNMKmRu",
        "outputId": "ac569b79-d890-487b-d197-ad70162e2369"
      },
      "source": [
        "! npm install -g localtunnel\n",
        "# 8097 is the port number I set myself, which can be modified to the port number I want to use\n",
        "get_ipython().system_raw('python3 -m pip install visdom')\n",
        "get_ipython().system_raw('python3 -m visdom.server -port 8097 >> visdomlog.txt 2>&1 &')   \n",
        "get_ipython().system_raw('lt --port 8097 >> url.txt 2>&1 &')   "
      ],
      "execution_count": 1,
      "outputs": [
        {
          "output_type": "stream",
          "text": [
            "\u001b[K\u001b[?25h/tools/node/bin/lt -> /tools/node/lib/node_modules/localtunnel/bin/lt.js\n",
            "+ localtunnel@2.0.1\n",
            "updated 1 package in 1.194s\n",
            "\n",
            "\u001b[33m\u001b[39m\n",
            "\u001b[33m   ╭────────────────────────────────────────────────────────────────╮\u001b[39m\n",
            "   \u001b[33m│\u001b[39m                                                                \u001b[33m│\u001b[39m\n",
            "   \u001b[33m│\u001b[39m      New \u001b[31mmajor\u001b[39m version of npm available! \u001b[31m6.14.8\u001b[39m → \u001b[32m7.19.1\u001b[39m       \u001b[33m│\u001b[39m\n",
            "   \u001b[33m│\u001b[39m   \u001b[33mChangelog:\u001b[39m \u001b[36mhttps://github.com/npm/cli/releases/tag/v7.19.1\u001b[39m   \u001b[33m│\u001b[39m\n",
            "   \u001b[33m│\u001b[39m               Run \u001b[32mnpm install -g npm\u001b[39m to update!                \u001b[33m│\u001b[39m\n",
            "   \u001b[33m│\u001b[39m                                                                \u001b[33m│\u001b[39m\n",
            "\u001b[33m   ╰────────────────────────────────────────────────────────────────╯\u001b[39m\n",
            "\u001b[33m\u001b[39m\n"
          ],
          "name": "stdout"
        }
      ]
    },
    {
      "cell_type": "code",
      "metadata": {
        "colab": {
          "base_uri": "https://localhost:8080/"
        },
        "id": "BKx8vxirMmXk",
        "outputId": "b7b5a09e-6f6f-48dc-ce2a-f0fef188a78f"
      },
      "source": [
        "%run /content/drive/MyDrive/Minitorch/Module-1/project/show_expression.py"
      ],
      "execution_count": 2,
      "outputs": [
        {
          "output_type": "stream",
          "text": [
            "Setting up a new session...\n"
          ],
          "name": "stderr"
        }
      ]
    },
    {
      "cell_type": "code",
      "metadata": {
        "colab": {
          "base_uri": "https://localhost:8080/"
        },
        "id": "2DZsw0X2NLPN",
        "outputId": "7e276d88-07bf-439c-d788-bad45166a323"
      },
      "source": [
        "%run /content/drive/MyDrive/Minitorch/Module-1/project/run_scalar.py"
      ],
      "execution_count": 4,
      "outputs": [
        {
          "output_type": "stream",
          "text": [
            "Setting up a new session...\n"
          ],
          "name": "stderr"
        },
        {
          "output_type": "stream",
          "text": [
            "Epoch  0  loss  37.319554956381054 correct 21\n",
            "Epoch  10  loss  33.741114243986736 correct 21\n",
            "Epoch  20  loss  32.86356843118376 correct 22\n",
            "Epoch  30  loss  31.948213307659067 correct 33\n",
            "Epoch  40  loss  30.872908860842575 correct 35\n",
            "Epoch  50  loss  29.243062395445694 correct 37\n",
            "Epoch  60  loss  27.048244957161113 correct 44\n",
            "Epoch  70  loss  24.229675736267843 correct 45\n",
            "Epoch  80  loss  20.92618119960544 correct 44\n",
            "Epoch  90  loss  18.353926890119844 correct 44\n",
            "Epoch  100  loss  19.8707830211459 correct 40\n",
            "Epoch  110  loss  17.51920360945815 correct 42\n",
            "Epoch  120  loss  17.521066595860106 correct 42\n",
            "Epoch  130  loss  15.032551907554705 correct 43\n",
            "Epoch  140  loss  14.335833800949368 correct 43\n",
            "Epoch  150  loss  13.760968227071304 correct 43\n",
            "Epoch  160  loss  11.699510521003173 correct 44\n",
            "Epoch  170  loss  13.339119945461302 correct 45\n",
            "Epoch  180  loss  11.373533210409757 correct 44\n",
            "Epoch  190  loss  9.663755326077393 correct 44\n",
            "Epoch  200  loss  7.805864337248843 correct 46\n",
            "Epoch  210  loss  10.859551063842622 correct 46\n",
            "Epoch  220  loss  7.079916099539067 correct 46\n",
            "Epoch  230  loss  5.191216118724592 correct 48\n",
            "Epoch  240  loss  4.734919463626064 correct 49\n",
            "Epoch  250  loss  4.437635382121597 correct 49\n",
            "Epoch  260  loss  4.290308461421508 correct 49\n",
            "Epoch  270  loss  16.155613975993383 correct 45\n",
            "Epoch  280  loss  4.866723014479001 correct 49\n",
            "Epoch  290  loss  3.572658343229151 correct 49\n",
            "Epoch  300  loss  3.2589846776587947 correct 49\n",
            "Epoch  310  loss  3.0932928517970706 correct 50\n",
            "Epoch  320  loss  2.9735922661578646 correct 49\n",
            "Epoch  330  loss  2.926700973273561 correct 49\n",
            "Epoch  340  loss  2.9968978870554768 correct 49\n",
            "Epoch  350  loss  3.2314368473126964 correct 49\n",
            "Epoch  360  loss  5.948943508987324 correct 46\n",
            "Epoch  370  loss  7.779347635308245 correct 46\n",
            "Epoch  380  loss  2.9768405699570377 correct 49\n",
            "Epoch  390  loss  2.403204661354515 correct 50\n",
            "Epoch  400  loss  2.2707360710311124 correct 50\n",
            "Epoch  410  loss  2.184058683071441 correct 50\n",
            "Epoch  420  loss  2.1078658788589846 correct 50\n",
            "Epoch  430  loss  2.0386513839644236 correct 50\n",
            "Epoch  440  loss  1.9736210423220886 correct 50\n",
            "Epoch  450  loss  1.9131152118825838 correct 50\n",
            "Epoch  460  loss  1.85631774494671 correct 50\n",
            "Epoch  470  loss  1.8034063470192594 correct 50\n",
            "Epoch  480  loss  1.7535085853575605 correct 50\n",
            "Epoch  490  loss  1.7077247254635348 correct 50\n"
          ],
          "name": "stdout"
        }
      ]
    },
    {
      "cell_type": "markdown",
      "metadata": {
        "id": "e480pBBLZbZC"
      },
      "source": [
        "Entrando al link de Visdom, corriendo run_scalars "
      ]
    },
    {
      "cell_type": "markdown",
      "metadata": {
        "id": "kBqk1q3VRLhN"
      },
      "source": [
        "![image.png](data:image/png;base64,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)"
      ]
    },
    {
      "cell_type": "code",
      "metadata": {
        "id": "7yQ6lzyjRNIc"
      },
      "source": [
        ""
      ],
      "execution_count": null,
      "outputs": []
    }
  ]
}