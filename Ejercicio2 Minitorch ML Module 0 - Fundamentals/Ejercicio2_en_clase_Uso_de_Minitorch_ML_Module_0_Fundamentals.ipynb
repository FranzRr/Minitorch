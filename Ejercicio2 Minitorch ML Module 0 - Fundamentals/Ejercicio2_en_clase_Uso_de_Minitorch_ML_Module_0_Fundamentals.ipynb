{
  "nbformat": 4,
  "nbformat_minor": 0,
  "metadata": {
    "colab": {
      "name": "Ejercicio2 en clase: Uso de Minitorch ML Module 0 - Fundamentals.ipynb",
      "provenance": []
    },
    "kernelspec": {
      "name": "python3",
      "display_name": "Python 3"
    },
    "language_info": {
      "name": "python"
    }
  },
  "cells": [
    {
      "cell_type": "code",
      "metadata": {
        "colab": {
          "base_uri": "https://localhost:8080/"
        },
        "id": "QxXiwNnwHV9P",
        "outputId": "93abf863-d76a-463f-bf04-1588c3db8520"
      },
      "source": [
        "from google.colab import drive\n",
        "drive.mount('/content/drive')"
      ],
      "execution_count": null,
      "outputs": [
        {
          "output_type": "stream",
          "text": [
            "Drive already mounted at /content/drive; to attempt to forcibly remount, call drive.mount(\"/content/drive\", force_remount=True).\n"
          ],
          "name": "stdout"
        }
      ]
    },
    {
      "cell_type": "code",
      "metadata": {
        "id": "pGST9rB4rtfb"
      },
      "source": [
        "#!git clone \"https://github.com/minitorch/Module-0\""
      ],
      "execution_count": null,
      "outputs": []
    },
    {
      "cell_type": "code",
      "metadata": {
        "colab": {
          "base_uri": "https://localhost:8080/"
        },
        "id": "y-T7ZQAZFzwa",
        "outputId": "92dff0ba-0079-4cd9-8804-66c145cecf89"
      },
      "source": [
        "!pip install python-mnist"
      ],
      "execution_count": null,
      "outputs": [
        {
          "output_type": "stream",
          "text": [
            "Requirement already satisfied: python-mnist in /usr/local/lib/python3.7/dist-packages (0.7)\n"
          ],
          "name": "stdout"
        }
      ]
    },
    {
      "cell_type": "code",
      "metadata": {
        "colab": {
          "base_uri": "https://localhost:8080/"
        },
        "id": "X8wxIZpPF32O",
        "outputId": "6c66ccc2-5d44-4f49-947b-2e51da11e3c5"
      },
      "source": [
        "!cd \"/content/drive/MyDrive/Minitorch/Module-0\" && python -m pip install -r requirements.txt && python -m pip install -r requirements.extra.txt && pip install -Ue ."
      ],
      "execution_count": null,
      "outputs": [
        {
          "output_type": "stream",
          "text": [
            "Requirement already satisfied: numpy==1.19.1 in /usr/local/lib/python3.7/dist-packages (from -r requirements.txt (line 1)) (1.19.1)\n",
            "Requirement already satisfied: numba==0.49 in /usr/local/lib/python3.7/dist-packages (from -r requirements.txt (line 2)) (0.49.0)\n",
            "Requirement already satisfied: pytest==6.0.1 in /usr/local/lib/python3.7/dist-packages (from -r requirements.txt (line 3)) (6.0.1)\n",
            "Requirement already satisfied: pytest-runner==5.2 in /usr/local/lib/python3.7/dist-packages (from -r requirements.txt (line 4)) (5.2)\n",
            "Requirement already satisfied: hypothesis==4.38 in /usr/local/lib/python3.7/dist-packages (from -r requirements.txt (line 5)) (4.38.0)\n",
            "Requirement already satisfied: flake8==3.8.3 in /usr/local/lib/python3.7/dist-packages (from -r requirements.txt (line 6)) (3.8.3)\n",
            "Requirement already satisfied: black==19.10b0 in /usr/local/lib/python3.7/dist-packages (from -r requirements.txt (line 7)) (19.10b0)\n",
            "Requirement already satisfied: colorama==0.4.3 in /usr/local/lib/python3.7/dist-packages (from -r requirements.txt (line 8)) (0.4.3)\n",
            "Requirement already satisfied: pep8-naming==0.11.1 in /usr/local/lib/python3.7/dist-packages (from -r requirements.txt (line 9)) (0.11.1)\n",
            "Requirement already satisfied: setuptools in /usr/local/lib/python3.7/dist-packages (from numba==0.49->-r requirements.txt (line 2)) (57.0.0)\n",
            "Requirement already satisfied: llvmlite<=0.33.0.dev0,>=0.31.0.dev0 in /usr/local/lib/python3.7/dist-packages (from numba==0.49->-r requirements.txt (line 2)) (0.32.1)\n",
            "Requirement already satisfied: attrs>=17.4.0 in /usr/local/lib/python3.7/dist-packages (from pytest==6.0.1->-r requirements.txt (line 3)) (21.2.0)\n",
            "Requirement already satisfied: pluggy<1.0,>=0.12 in /usr/local/lib/python3.7/dist-packages (from pytest==6.0.1->-r requirements.txt (line 3)) (0.13.1)\n",
            "Requirement already satisfied: toml in /usr/local/lib/python3.7/dist-packages (from pytest==6.0.1->-r requirements.txt (line 3)) (0.10.2)\n",
            "Requirement already satisfied: importlib-metadata>=0.12; python_version < \"3.8\" in /usr/local/lib/python3.7/dist-packages (from pytest==6.0.1->-r requirements.txt (line 3)) (4.5.0)\n",
            "Requirement already satisfied: py>=1.8.2 in /usr/local/lib/python3.7/dist-packages (from pytest==6.0.1->-r requirements.txt (line 3)) (1.10.0)\n",
            "Requirement already satisfied: more-itertools>=4.0.0 in /usr/local/lib/python3.7/dist-packages (from pytest==6.0.1->-r requirements.txt (line 3)) (8.8.0)\n",
            "Requirement already satisfied: packaging in /usr/local/lib/python3.7/dist-packages (from pytest==6.0.1->-r requirements.txt (line 3)) (20.9)\n",
            "Requirement already satisfied: iniconfig in /usr/local/lib/python3.7/dist-packages (from pytest==6.0.1->-r requirements.txt (line 3)) (1.1.1)\n",
            "Requirement already satisfied: pycodestyle<2.7.0,>=2.6.0a1 in /usr/local/lib/python3.7/dist-packages (from flake8==3.8.3->-r requirements.txt (line 6)) (2.6.0)\n",
            "Requirement already satisfied: mccabe<0.7.0,>=0.6.0 in /usr/local/lib/python3.7/dist-packages (from flake8==3.8.3->-r requirements.txt (line 6)) (0.6.1)\n",
            "Requirement already satisfied: pyflakes<2.3.0,>=2.2.0 in /usr/local/lib/python3.7/dist-packages (from flake8==3.8.3->-r requirements.txt (line 6)) (2.2.0)\n",
            "Requirement already satisfied: click>=6.5 in /usr/local/lib/python3.7/dist-packages (from black==19.10b0->-r requirements.txt (line 7)) (7.1.2)\n",
            "Requirement already satisfied: regex in /usr/local/lib/python3.7/dist-packages (from black==19.10b0->-r requirements.txt (line 7)) (2019.12.20)\n",
            "Requirement already satisfied: pathspec<1,>=0.6 in /usr/local/lib/python3.7/dist-packages (from black==19.10b0->-r requirements.txt (line 7)) (0.8.1)\n",
            "Requirement already satisfied: typed-ast>=1.4.0 in /usr/local/lib/python3.7/dist-packages (from black==19.10b0->-r requirements.txt (line 7)) (1.4.3)\n",
            "Requirement already satisfied: appdirs in /usr/local/lib/python3.7/dist-packages (from black==19.10b0->-r requirements.txt (line 7)) (1.4.4)\n",
            "Requirement already satisfied: flake8-polyfill<2,>=1.0.2 in /usr/local/lib/python3.7/dist-packages (from pep8-naming==0.11.1->-r requirements.txt (line 9)) (1.0.2)\n",
            "Requirement already satisfied: typing-extensions>=3.6.4; python_version < \"3.8\" in /usr/local/lib/python3.7/dist-packages (from importlib-metadata>=0.12; python_version < \"3.8\"->pytest==6.0.1->-r requirements.txt (line 3)) (3.7.4.3)\n",
            "Requirement already satisfied: zipp>=0.5 in /usr/local/lib/python3.7/dist-packages (from importlib-metadata>=0.12; python_version < \"3.8\"->pytest==6.0.1->-r requirements.txt (line 3)) (3.4.1)\n",
            "Requirement already satisfied: pyparsing>=2.0.2 in /usr/local/lib/python3.7/dist-packages (from packaging->pytest==6.0.1->-r requirements.txt (line 3)) (2.4.7)\n",
            "Collecting git+https://github.com/facebookresearch/visdom (from -r requirements.extra.txt (line 3))\n",
            "  Cloning https://github.com/facebookresearch/visdom to /tmp/pip-req-build-8woam0bk\n",
            "  Running command git clone -q https://github.com/facebookresearch/visdom /tmp/pip-req-build-8woam0bk\n",
            "Requirement already satisfied (use --upgrade to upgrade): visdom==0.1.8.9 from git+https://github.com/facebookresearch/visdom in /usr/local/lib/python3.7/dist-packages (from -r requirements.extra.txt (line 3))\n",
            "Requirement already satisfied: networkx==2.4 in /usr/local/lib/python3.7/dist-packages (from -r requirements.extra.txt (line 1)) (2.4)\n",
            "Requirement already satisfied: matplotlib==3.3.0 in /usr/local/lib/python3.7/dist-packages (from -r requirements.extra.txt (line 2)) (3.3.0)\n",
            "Requirement already satisfied: pydot==1.4.1 in /usr/local/lib/python3.7/dist-packages (from -r requirements.extra.txt (line 4)) (1.4.1)\n",
            "Requirement already satisfied: numpy>=1.8 in /usr/local/lib/python3.7/dist-packages (from visdom==0.1.8.9->-r requirements.extra.txt (line 3)) (1.19.1)\n",
            "Requirement already satisfied: scipy in /usr/local/lib/python3.7/dist-packages (from visdom==0.1.8.9->-r requirements.extra.txt (line 3)) (1.4.1)\n",
            "Requirement already satisfied: requests in /usr/local/lib/python3.7/dist-packages (from visdom==0.1.8.9->-r requirements.extra.txt (line 3)) (2.23.0)\n",
            "Requirement already satisfied: tornado in /usr/local/lib/python3.7/dist-packages (from visdom==0.1.8.9->-r requirements.extra.txt (line 3)) (5.1.1)\n",
            "Requirement already satisfied: pyzmq in /usr/local/lib/python3.7/dist-packages (from visdom==0.1.8.9->-r requirements.extra.txt (line 3)) (22.1.0)\n",
            "Requirement already satisfied: six in /usr/local/lib/python3.7/dist-packages (from visdom==0.1.8.9->-r requirements.extra.txt (line 3)) (1.15.0)\n",
            "Requirement already satisfied: jsonpatch in /usr/local/lib/python3.7/dist-packages (from visdom==0.1.8.9->-r requirements.extra.txt (line 3)) (1.32)\n",
            "Requirement already satisfied: websocket-client in /usr/local/lib/python3.7/dist-packages (from visdom==0.1.8.9->-r requirements.extra.txt (line 3)) (1.1.0)\n",
            "Requirement already satisfied: pillow in /usr/local/lib/python3.7/dist-packages (from visdom==0.1.8.9->-r requirements.extra.txt (line 3)) (7.1.2)\n",
            "Requirement already satisfied: decorator>=4.3.0 in /usr/local/lib/python3.7/dist-packages (from networkx==2.4->-r requirements.extra.txt (line 1)) (4.4.2)\n",
            "Requirement already satisfied: cycler>=0.10 in /usr/local/lib/python3.7/dist-packages (from matplotlib==3.3.0->-r requirements.extra.txt (line 2)) (0.10.0)\n",
            "Requirement already satisfied: kiwisolver>=1.0.1 in /usr/local/lib/python3.7/dist-packages (from matplotlib==3.3.0->-r requirements.extra.txt (line 2)) (1.3.1)\n",
            "Requirement already satisfied: pyparsing!=2.0.4,!=2.1.2,!=2.1.6,>=2.0.3 in /usr/local/lib/python3.7/dist-packages (from matplotlib==3.3.0->-r requirements.extra.txt (line 2)) (2.4.7)\n",
            "Requirement already satisfied: python-dateutil>=2.1 in /usr/local/lib/python3.7/dist-packages (from matplotlib==3.3.0->-r requirements.extra.txt (line 2)) (2.8.1)\n",
            "Requirement already satisfied: chardet<4,>=3.0.2 in /usr/local/lib/python3.7/dist-packages (from requests->visdom==0.1.8.9->-r requirements.extra.txt (line 3)) (3.0.4)\n",
            "Requirement already satisfied: urllib3!=1.25.0,!=1.25.1,<1.26,>=1.21.1 in /usr/local/lib/python3.7/dist-packages (from requests->visdom==0.1.8.9->-r requirements.extra.txt (line 3)) (1.24.3)\n",
            "Requirement already satisfied: certifi>=2017.4.17 in /usr/local/lib/python3.7/dist-packages (from requests->visdom==0.1.8.9->-r requirements.extra.txt (line 3)) (2021.5.30)\n",
            "Requirement already satisfied: idna<3,>=2.5 in /usr/local/lib/python3.7/dist-packages (from requests->visdom==0.1.8.9->-r requirements.extra.txt (line 3)) (2.10)\n",
            "Requirement already satisfied: jsonpointer>=1.9 in /usr/local/lib/python3.7/dist-packages (from jsonpatch->visdom==0.1.8.9->-r requirements.extra.txt (line 3)) (2.1)\n",
            "Building wheels for collected packages: visdom\n",
            "  Building wheel for visdom (setup.py) ... \u001b[?25l\u001b[?25hdone\n",
            "  Created wheel for visdom: filename=visdom-0.1.8.9-cp37-none-any.whl size=569447 sha256=8d6f9be121a6deaba27a2cef03e0dfbc2719db6d654ec366b47f56a7986d7c24\n",
            "  Stored in directory: /tmp/pip-ephem-wheel-cache-2c_wspb8/wheels/55/75/8a/4a32326a97ab43cfc1a7f98f7b007f15816f0c9adf4ff8a243\n",
            "Successfully built visdom\n",
            "Obtaining file:///content/drive/MyDrive/Minitorch/Module-0\n",
            "  Installing build dependencies ... \u001b[?25l\u001b[?25hdone\n",
            "  Getting requirements to build wheel ... \u001b[?25l\u001b[?25hdone\n",
            "  Installing backend dependencies ... \u001b[?25l\u001b[?25hdone\n",
            "    Preparing wheel metadata ... \u001b[?25l\u001b[?25hdone\n",
            "Installing collected packages: minitorch\n",
            "  Found existing installation: minitorch 0.1\n",
            "    Can't uninstall 'minitorch'. No files were found to uninstall.\n",
            "  Running setup.py develop for minitorch\n",
            "Successfully installed minitorch\n"
          ],
          "name": "stdout"
        }
      ]
    },
    {
      "cell_type": "code",
      "metadata": {
        "id": "MgXeL743GAkf"
      },
      "source": [
        "import sys\n",
        "sys.path.append('/content/drive/MyDrive/Minitorch/Module-0')"
      ],
      "execution_count": null,
      "outputs": []
    },
    {
      "cell_type": "code",
      "metadata": {
        "id": "LVDUpoHBGH4Y"
      },
      "source": [
        "import minitorch"
      ],
      "execution_count": null,
      "outputs": []
    },
    {
      "cell_type": "code",
      "metadata": {
        "id": "E4aJiUEk95bs"
      },
      "source": [
        " %run /content/drive/MyDrive/Minitorch/Module-0/tests/test_operators.py "
      ],
      "execution_count": null,
      "outputs": []
    },
    {
      "cell_type": "markdown",
      "metadata": {
        "id": "VgoWo17iIv2M"
      },
      "source": [
        "Pruebas unitarias test_operators"
      ]
    },
    {
      "cell_type": "code",
      "metadata": {
        "id": "o0FiN57ecWGy",
        "colab": {
          "base_uri": "https://localhost:8080/"
        },
        "outputId": "960316a2-9087-467d-a3b5-3878c6d1fda1"
      },
      "source": [
        " %run -m pytest /content/drive/MyDrive/Minitorch/Module-0/tests/test_operators.py \n",
        " #python -m pytest tests/ -m task0_1"
      ],
      "execution_count": null,
      "outputs": [
        {
          "output_type": "stream",
          "text": [
            "============================= test session starts ==============================\n",
            "platform linux -- Python 3.7.10, pytest-6.0.1, py-1.10.0, pluggy-0.13.1\n",
            "hypothesis profile 'ci' -> deadline=None, database=DirectoryBasedExampleDatabase('/content/.hypothesis/examples')\n",
            "rootdir: /content/drive/MyDrive/Minitorch/Module-0, configfile: pytest.ini\n",
            "plugins: hypothesis-4.38.0, typeguard-2.7.1\n",
            "collected 9 items\n",
            "\n",
            "drive/MyDrive/Minitorch/Module-0/tests/test_operators.py .........       [100%]\n",
            "\n",
            "=============================== warnings summary ===============================\n",
            "/usr/local/lib/python3.7/dist-packages/_pytest/config/__init__.py:1040\n",
            "  /usr/local/lib/python3.7/dist-packages/_pytest/config/__init__.py:1040: PytestAssertRewriteWarning: Module already imported so cannot be rewritten: hypothesis\n",
            "    self._mark_plugins_for_rewrite(hook)\n",
            "\n",
            "-- Docs: https://docs.pytest.org/en/stable/warnings.html\n",
            "========================= 9 passed, 1 warning in 0.93s =========================\n"
          ],
          "name": "stdout"
        }
      ]
    },
    {
      "cell_type": "markdown",
      "metadata": {
        "id": "JP5JpwkVI0zr"
      },
      "source": [
        "Pruebas unitarias test_modules"
      ]
    },
    {
      "cell_type": "code",
      "metadata": {
        "id": "_qdLYTQe_zYb"
      },
      "source": [
        " %run /content/drive/MyDrive/Minitorch/Module-0/tests/test_module.py "
      ],
      "execution_count": null,
      "outputs": []
    },
    {
      "cell_type": "code",
      "metadata": {
        "colab": {
          "base_uri": "https://localhost:8080/"
        },
        "id": "lSreWGG4_1nB",
        "outputId": "238c5ffb-aab4-4d92-ea68-d16ff344a54b"
      },
      "source": [
        " %run -m pytest /content/drive/MyDrive/Minitorch/Module-0/tests/test_module.py "
      ],
      "execution_count": null,
      "outputs": [
        {
          "output_type": "stream",
          "text": [
            "============================= test session starts ==============================\n",
            "platform linux -- Python 3.7.10, pytest-6.0.1, py-1.10.0, pluggy-0.13.1\n",
            "hypothesis profile 'ci' -> deadline=None, database=DirectoryBasedExampleDatabase('/content/.hypothesis/examples')\n",
            "rootdir: /content/drive/MyDrive/Minitorch/Module-0, configfile: pytest.ini\n",
            "plugins: hypothesis-4.38.0, typeguard-2.7.1\n",
            "collected 2 items\n",
            "\n",
            "drive/MyDrive/Minitorch/Module-0/tests/test_module.py ..                 [100%]\n",
            "\n",
            "=============================== warnings summary ===============================\n",
            "/usr/local/lib/python3.7/dist-packages/_pytest/config/__init__.py:1040\n",
            "  /usr/local/lib/python3.7/dist-packages/_pytest/config/__init__.py:1040: PytestAssertRewriteWarning: Module already imported so cannot be rewritten: hypothesis\n",
            "    self._mark_plugins_for_rewrite(hook)\n",
            "\n",
            "-- Docs: https://docs.pytest.org/en/stable/warnings.html\n",
            "========================= 2 passed, 1 warning in 0.09s =========================\n"
          ],
          "name": "stdout"
        }
      ]
    },
    {
      "cell_type": "markdown",
      "metadata": {
        "id": "BStrlGNwI4zD"
      },
      "source": [
        "Visualización con Visdom"
      ]
    },
    {
      "cell_type": "code",
      "metadata": {
        "colab": {
          "base_uri": "https://localhost:8080/",
          "height": 132
        },
        "id": "xFhAwhq5B-O6",
        "outputId": "4cd3d54c-52ce-4445-dd2f-c645e4020e89"
      },
      "source": [
        "python -m visdom.server -port=6008"
      ],
      "execution_count": null,
      "outputs": [
        {
          "output_type": "error",
          "ename": "SyntaxError",
          "evalue": "ignored",
          "traceback": [
            "\u001b[0;36m  File \u001b[0;32m\"<ipython-input-16-a86971d78b49>\"\u001b[0;36m, line \u001b[0;32m1\u001b[0m\n\u001b[0;31m    python -m visdom.server -port=6008\u001b[0m\n\u001b[0m                   ^\u001b[0m\n\u001b[0;31mSyntaxError\u001b[0m\u001b[0;31m:\u001b[0m invalid syntax\n"
          ]
        }
      ]
    },
    {
      "cell_type": "code",
      "metadata": {
        "id": "GRVzwCak5kUj"
      },
      "source": [
        "#[1]*10**10"
      ],
      "execution_count": null,
      "outputs": []
    }
  ]
}